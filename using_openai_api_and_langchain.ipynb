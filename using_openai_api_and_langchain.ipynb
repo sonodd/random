{
  "nbformat": 4,
  "nbformat_minor": 0,
  "metadata": {
    "colab": {
      "provenance": [],
      "authorship_tag": "ABX9TyM/6thfW5MNFM2orU5qqvV0"
    },
    "kernelspec": {
      "name": "python3",
      "display_name": "Python 3"
    },
    "language_info": {
      "name": "python"
    }
  },
  "cells": [
    {
      "cell_type": "markdown",
      "source": [
        "#OpenAI APIの利用準備"
      ],
      "metadata": {
        "id": "LqATBtnSRM4p"
      }
    },
    {
      "cell_type": "code",
      "source": [
        "# OpenAI ライブラリのインストール\n",
        "!pip install openai"
      ],
      "metadata": {
        "colab": {
          "base_uri": "https://localhost:8080/"
        },
        "id": "hbvo7jovFcUD",
        "outputId": "074acc0e-a5a6-4594-9090-7d55187a4f3a"
      },
      "execution_count": 1,
      "outputs": [
        {
          "output_type": "stream",
          "name": "stdout",
          "text": [
            "Requirement already satisfied: openai in /usr/local/lib/python3.11/dist-packages (1.61.1)\n",
            "Requirement already satisfied: anyio<5,>=3.5.0 in /usr/local/lib/python3.11/dist-packages (from openai) (3.7.1)\n",
            "Requirement already satisfied: distro<2,>=1.7.0 in /usr/local/lib/python3.11/dist-packages (from openai) (1.9.0)\n",
            "Requirement already satisfied: httpx<1,>=0.23.0 in /usr/local/lib/python3.11/dist-packages (from openai) (0.28.1)\n",
            "Requirement already satisfied: jiter<1,>=0.4.0 in /usr/local/lib/python3.11/dist-packages (from openai) (0.8.2)\n",
            "Requirement already satisfied: pydantic<3,>=1.9.0 in /usr/local/lib/python3.11/dist-packages (from openai) (2.10.6)\n",
            "Requirement already satisfied: sniffio in /usr/local/lib/python3.11/dist-packages (from openai) (1.3.1)\n",
            "Requirement already satisfied: tqdm>4 in /usr/local/lib/python3.11/dist-packages (from openai) (4.67.1)\n",
            "Requirement already satisfied: typing-extensions<5,>=4.11 in /usr/local/lib/python3.11/dist-packages (from openai) (4.12.2)\n",
            "Requirement already satisfied: idna>=2.8 in /usr/local/lib/python3.11/dist-packages (from anyio<5,>=3.5.0->openai) (3.10)\n",
            "Requirement already satisfied: certifi in /usr/local/lib/python3.11/dist-packages (from httpx<1,>=0.23.0->openai) (2025.1.31)\n",
            "Requirement already satisfied: httpcore==1.* in /usr/local/lib/python3.11/dist-packages (from httpx<1,>=0.23.0->openai) (1.0.7)\n",
            "Requirement already satisfied: h11<0.15,>=0.13 in /usr/local/lib/python3.11/dist-packages (from httpcore==1.*->httpx<1,>=0.23.0->openai) (0.14.0)\n",
            "Requirement already satisfied: annotated-types>=0.6.0 in /usr/local/lib/python3.11/dist-packages (from pydantic<3,>=1.9.0->openai) (0.7.0)\n",
            "Requirement already satisfied: pydantic-core==2.27.2 in /usr/local/lib/python3.11/dist-packages (from pydantic<3,>=1.9.0->openai) (2.27.2)\n"
          ]
        }
      ]
    },
    {
      "cell_type": "code",
      "source": [
        "import openai\n",
        "from google.colab import userdata\n",
        "import textwrap\n",
        "\n",
        "# Colab のシークレット機能で設定した API キーを環境変数から取得\n",
        "openai.api_key = userdata.get('OPENAI_API_KEY')\n",
        "\n",
        "from openai import OpenAI\n",
        "client = OpenAI(api_key=userdata.get('OPENAI_API_KEY'))"
      ],
      "metadata": {
        "id": "qq3XkwqHF-pn"
      },
      "execution_count": 22,
      "outputs": []
    },
    {
      "cell_type": "code",
      "execution_count": 23,
      "metadata": {
        "colab": {
          "base_uri": "https://localhost:8080/"
        },
        "id": "uhrkTHQmCylG",
        "outputId": "731ebc25-70cc-433a-e1ec-2f6a104cea87"
      },
      "outputs": [
        {
          "output_type": "stream",
          "name": "stdout",
          "text": [
            "role: assistant\n",
            "もちろんです。私はAIアシスタントで、ユ\n",
            "ーザーからの質問に対して情報を提供したり\n",
            "、さまざまなタスクを支援したりするように\n",
            "設計されています。何かお手伝いできること\n",
            "があれば教えてください。\n"
          ]
        }
      ],
      "source": [
        "# ChatCompletion API を利用したリクエスト例\n",
        "completion = client.chat.completions.create(\n",
        "  model=\"gpt-4o\",\n",
        "  messages=[\n",
        "    {\"role\": \"developer\", \"content\": \"You are a helpful assistant.\"},\n",
        "    {\"role\": \"user\", \"content\": \"日本語であなたが誰か教えてください。\"}\n",
        "  ]\n",
        ")\n",
        "\n",
        "# content , roleを出力\n",
        "print(f\"role: {completion.choices[0].message.role}\")\n",
        "#print(f\"content: {completion.choices[0].message.content}\")\n",
        "\n",
        "# 出力テキストを20文字ごとに改行\n",
        "output_text = completion.choices[0].message.content\n",
        "wrapped_text = textwrap.fill(output_text, width=20)\n",
        "\n",
        "print(wrapped_text)"
      ]
    },
    {
      "cell_type": "code",
      "source": [
        "completion = client.chat.completions.create(\n",
        "    model=\"gpt-4o\",\n",
        "    store=True,\n",
        "    messages=[\n",
        "        {\"role\": \"user\", \"content\": \"write a haiku about ai\"}\n",
        "    ]\n",
        ")\n",
        "\n",
        "print(f\"content: {completion.choices[0].message.content}\")"
      ],
      "metadata": {
        "colab": {
          "base_uri": "https://localhost:8080/"
        },
        "id": "C5dZwVB3GDb7",
        "outputId": "cee59e4a-d165-48b4-8b53-504848de8954"
      },
      "execution_count": 24,
      "outputs": [
        {
          "output_type": "stream",
          "name": "stdout",
          "text": [
            "content: Mind of code and dreams,  \n",
            "Silently learns, weaves, and grows—  \n",
            "Future's quiet dawn.\n"
          ]
        }
      ]
    },
    {
      "cell_type": "markdown",
      "source": [
        "#Lang-Chainの利用準備"
      ],
      "metadata": {
        "id": "QJLMSysiRTQf"
      }
    },
    {
      "cell_type": "code",
      "source": [
        "!pip install langchain-community\n",
        "!pip install langchain-experimental\n",
        "!pip install langchain-openai"
      ],
      "metadata": {
        "colab": {
          "base_uri": "https://localhost:8080/"
        },
        "collapsed": true,
        "id": "rectVPRYRqqI",
        "outputId": "aa5e7920-20f6-4c00-aa32-9e60be59fc8e"
      },
      "execution_count": 34,
      "outputs": [
        {
          "output_type": "stream",
          "name": "stdout",
          "text": [
            "Requirement already satisfied: langchain-community in /usr/local/lib/python3.11/dist-packages (0.3.18)\n",
            "Requirement already satisfied: langchain-core<1.0.0,>=0.3.37 in /usr/local/lib/python3.11/dist-packages (from langchain-community) (0.3.37)\n",
            "Requirement already satisfied: langchain<1.0.0,>=0.3.19 in /usr/local/lib/python3.11/dist-packages (from langchain-community) (0.3.19)\n",
            "Requirement already satisfied: SQLAlchemy<3,>=1.4 in /usr/local/lib/python3.11/dist-packages (from langchain-community) (2.0.38)\n",
            "Requirement already satisfied: requests<3,>=2 in /usr/local/lib/python3.11/dist-packages (from langchain-community) (2.32.3)\n",
            "Requirement already satisfied: PyYAML>=5.3 in /usr/local/lib/python3.11/dist-packages (from langchain-community) (6.0.2)\n",
            "Requirement already satisfied: aiohttp<4.0.0,>=3.8.3 in /usr/local/lib/python3.11/dist-packages (from langchain-community) (3.11.12)\n",
            "Requirement already satisfied: tenacity!=8.4.0,<10,>=8.1.0 in /usr/local/lib/python3.11/dist-packages (from langchain-community) (9.0.0)\n",
            "Requirement already satisfied: dataclasses-json<0.7,>=0.5.7 in /usr/local/lib/python3.11/dist-packages (from langchain-community) (0.6.7)\n",
            "Requirement already satisfied: pydantic-settings<3.0.0,>=2.4.0 in /usr/local/lib/python3.11/dist-packages (from langchain-community) (2.8.0)\n",
            "Requirement already satisfied: langsmith<0.4,>=0.1.125 in /usr/local/lib/python3.11/dist-packages (from langchain-community) (0.3.8)\n",
            "Requirement already satisfied: httpx-sse<1.0.0,>=0.4.0 in /usr/local/lib/python3.11/dist-packages (from langchain-community) (0.4.0)\n",
            "Requirement already satisfied: numpy<2,>=1.26.4 in /usr/local/lib/python3.11/dist-packages (from langchain-community) (1.26.4)\n",
            "Requirement already satisfied: aiohappyeyeballs>=2.3.0 in /usr/local/lib/python3.11/dist-packages (from aiohttp<4.0.0,>=3.8.3->langchain-community) (2.4.6)\n",
            "Requirement already satisfied: aiosignal>=1.1.2 in /usr/local/lib/python3.11/dist-packages (from aiohttp<4.0.0,>=3.8.3->langchain-community) (1.3.2)\n",
            "Requirement already satisfied: attrs>=17.3.0 in /usr/local/lib/python3.11/dist-packages (from aiohttp<4.0.0,>=3.8.3->langchain-community) (25.1.0)\n",
            "Requirement already satisfied: frozenlist>=1.1.1 in /usr/local/lib/python3.11/dist-packages (from aiohttp<4.0.0,>=3.8.3->langchain-community) (1.5.0)\n",
            "Requirement already satisfied: multidict<7.0,>=4.5 in /usr/local/lib/python3.11/dist-packages (from aiohttp<4.0.0,>=3.8.3->langchain-community) (6.1.0)\n",
            "Requirement already satisfied: propcache>=0.2.0 in /usr/local/lib/python3.11/dist-packages (from aiohttp<4.0.0,>=3.8.3->langchain-community) (0.2.1)\n",
            "Requirement already satisfied: yarl<2.0,>=1.17.0 in /usr/local/lib/python3.11/dist-packages (from aiohttp<4.0.0,>=3.8.3->langchain-community) (1.18.3)\n",
            "Requirement already satisfied: marshmallow<4.0.0,>=3.18.0 in /usr/local/lib/python3.11/dist-packages (from dataclasses-json<0.7,>=0.5.7->langchain-community) (3.26.1)\n",
            "Requirement already satisfied: typing-inspect<1,>=0.4.0 in /usr/local/lib/python3.11/dist-packages (from dataclasses-json<0.7,>=0.5.7->langchain-community) (0.9.0)\n",
            "Requirement already satisfied: langchain-text-splitters<1.0.0,>=0.3.6 in /usr/local/lib/python3.11/dist-packages (from langchain<1.0.0,>=0.3.19->langchain-community) (0.3.6)\n",
            "Requirement already satisfied: pydantic<3.0.0,>=2.7.4 in /usr/local/lib/python3.11/dist-packages (from langchain<1.0.0,>=0.3.19->langchain-community) (2.10.6)\n",
            "Requirement already satisfied: jsonpatch<2.0,>=1.33 in /usr/local/lib/python3.11/dist-packages (from langchain-core<1.0.0,>=0.3.37->langchain-community) (1.33)\n",
            "Requirement already satisfied: packaging<25,>=23.2 in /usr/local/lib/python3.11/dist-packages (from langchain-core<1.0.0,>=0.3.37->langchain-community) (24.2)\n",
            "Requirement already satisfied: typing-extensions>=4.7 in /usr/local/lib/python3.11/dist-packages (from langchain-core<1.0.0,>=0.3.37->langchain-community) (4.12.2)\n",
            "Requirement already satisfied: httpx<1,>=0.23.0 in /usr/local/lib/python3.11/dist-packages (from langsmith<0.4,>=0.1.125->langchain-community) (0.28.1)\n",
            "Requirement already satisfied: orjson<4.0.0,>=3.9.14 in /usr/local/lib/python3.11/dist-packages (from langsmith<0.4,>=0.1.125->langchain-community) (3.10.15)\n",
            "Requirement already satisfied: requests-toolbelt<2.0.0,>=1.0.0 in /usr/local/lib/python3.11/dist-packages (from langsmith<0.4,>=0.1.125->langchain-community) (1.0.0)\n",
            "Requirement already satisfied: zstandard<0.24.0,>=0.23.0 in /usr/local/lib/python3.11/dist-packages (from langsmith<0.4,>=0.1.125->langchain-community) (0.23.0)\n",
            "Requirement already satisfied: python-dotenv>=0.21.0 in /usr/local/lib/python3.11/dist-packages (from pydantic-settings<3.0.0,>=2.4.0->langchain-community) (1.0.1)\n",
            "Requirement already satisfied: charset-normalizer<4,>=2 in /usr/local/lib/python3.11/dist-packages (from requests<3,>=2->langchain-community) (3.4.1)\n",
            "Requirement already satisfied: idna<4,>=2.5 in /usr/local/lib/python3.11/dist-packages (from requests<3,>=2->langchain-community) (3.10)\n",
            "Requirement already satisfied: urllib3<3,>=1.21.1 in /usr/local/lib/python3.11/dist-packages (from requests<3,>=2->langchain-community) (2.3.0)\n",
            "Requirement already satisfied: certifi>=2017.4.17 in /usr/local/lib/python3.11/dist-packages (from requests<3,>=2->langchain-community) (2025.1.31)\n",
            "Requirement already satisfied: greenlet!=0.4.17 in /usr/local/lib/python3.11/dist-packages (from SQLAlchemy<3,>=1.4->langchain-community) (3.1.1)\n",
            "Requirement already satisfied: anyio in /usr/local/lib/python3.11/dist-packages (from httpx<1,>=0.23.0->langsmith<0.4,>=0.1.125->langchain-community) (3.7.1)\n",
            "Requirement already satisfied: httpcore==1.* in /usr/local/lib/python3.11/dist-packages (from httpx<1,>=0.23.0->langsmith<0.4,>=0.1.125->langchain-community) (1.0.7)\n",
            "Requirement already satisfied: h11<0.15,>=0.13 in /usr/local/lib/python3.11/dist-packages (from httpcore==1.*->httpx<1,>=0.23.0->langsmith<0.4,>=0.1.125->langchain-community) (0.14.0)\n",
            "Requirement already satisfied: jsonpointer>=1.9 in /usr/local/lib/python3.11/dist-packages (from jsonpatch<2.0,>=1.33->langchain-core<1.0.0,>=0.3.37->langchain-community) (3.0.0)\n",
            "Requirement already satisfied: annotated-types>=0.6.0 in /usr/local/lib/python3.11/dist-packages (from pydantic<3.0.0,>=2.7.4->langchain<1.0.0,>=0.3.19->langchain-community) (0.7.0)\n",
            "Requirement already satisfied: pydantic-core==2.27.2 in /usr/local/lib/python3.11/dist-packages (from pydantic<3.0.0,>=2.7.4->langchain<1.0.0,>=0.3.19->langchain-community) (2.27.2)\n",
            "Requirement already satisfied: mypy-extensions>=0.3.0 in /usr/local/lib/python3.11/dist-packages (from typing-inspect<1,>=0.4.0->dataclasses-json<0.7,>=0.5.7->langchain-community) (1.0.0)\n",
            "Requirement already satisfied: sniffio>=1.1 in /usr/local/lib/python3.11/dist-packages (from anyio->httpx<1,>=0.23.0->langsmith<0.4,>=0.1.125->langchain-community) (1.3.1)\n",
            "Requirement already satisfied: langchain-experimental in /usr/local/lib/python3.11/dist-packages (0.3.4)\n",
            "Requirement already satisfied: langchain-community<0.4.0,>=0.3.0 in /usr/local/lib/python3.11/dist-packages (from langchain-experimental) (0.3.18)\n",
            "Requirement already satisfied: langchain-core<0.4.0,>=0.3.28 in /usr/local/lib/python3.11/dist-packages (from langchain-experimental) (0.3.37)\n",
            "Requirement already satisfied: langchain<1.0.0,>=0.3.19 in /usr/local/lib/python3.11/dist-packages (from langchain-community<0.4.0,>=0.3.0->langchain-experimental) (0.3.19)\n",
            "Requirement already satisfied: SQLAlchemy<3,>=1.4 in /usr/local/lib/python3.11/dist-packages (from langchain-community<0.4.0,>=0.3.0->langchain-experimental) (2.0.38)\n",
            "Requirement already satisfied: requests<3,>=2 in /usr/local/lib/python3.11/dist-packages (from langchain-community<0.4.0,>=0.3.0->langchain-experimental) (2.32.3)\n",
            "Requirement already satisfied: PyYAML>=5.3 in /usr/local/lib/python3.11/dist-packages (from langchain-community<0.4.0,>=0.3.0->langchain-experimental) (6.0.2)\n",
            "Requirement already satisfied: aiohttp<4.0.0,>=3.8.3 in /usr/local/lib/python3.11/dist-packages (from langchain-community<0.4.0,>=0.3.0->langchain-experimental) (3.11.12)\n",
            "Requirement already satisfied: tenacity!=8.4.0,<10,>=8.1.0 in /usr/local/lib/python3.11/dist-packages (from langchain-community<0.4.0,>=0.3.0->langchain-experimental) (9.0.0)\n",
            "Requirement already satisfied: dataclasses-json<0.7,>=0.5.7 in /usr/local/lib/python3.11/dist-packages (from langchain-community<0.4.0,>=0.3.0->langchain-experimental) (0.6.7)\n",
            "Requirement already satisfied: pydantic-settings<3.0.0,>=2.4.0 in /usr/local/lib/python3.11/dist-packages (from langchain-community<0.4.0,>=0.3.0->langchain-experimental) (2.8.0)\n",
            "Requirement already satisfied: langsmith<0.4,>=0.1.125 in /usr/local/lib/python3.11/dist-packages (from langchain-community<0.4.0,>=0.3.0->langchain-experimental) (0.3.8)\n",
            "Requirement already satisfied: httpx-sse<1.0.0,>=0.4.0 in /usr/local/lib/python3.11/dist-packages (from langchain-community<0.4.0,>=0.3.0->langchain-experimental) (0.4.0)\n",
            "Requirement already satisfied: numpy<2,>=1.26.4 in /usr/local/lib/python3.11/dist-packages (from langchain-community<0.4.0,>=0.3.0->langchain-experimental) (1.26.4)\n",
            "Requirement already satisfied: jsonpatch<2.0,>=1.33 in /usr/local/lib/python3.11/dist-packages (from langchain-core<0.4.0,>=0.3.28->langchain-experimental) (1.33)\n",
            "Requirement already satisfied: packaging<25,>=23.2 in /usr/local/lib/python3.11/dist-packages (from langchain-core<0.4.0,>=0.3.28->langchain-experimental) (24.2)\n",
            "Requirement already satisfied: typing-extensions>=4.7 in /usr/local/lib/python3.11/dist-packages (from langchain-core<0.4.0,>=0.3.28->langchain-experimental) (4.12.2)\n",
            "Requirement already satisfied: pydantic<3.0.0,>=2.5.2 in /usr/local/lib/python3.11/dist-packages (from langchain-core<0.4.0,>=0.3.28->langchain-experimental) (2.10.6)\n",
            "Requirement already satisfied: aiohappyeyeballs>=2.3.0 in /usr/local/lib/python3.11/dist-packages (from aiohttp<4.0.0,>=3.8.3->langchain-community<0.4.0,>=0.3.0->langchain-experimental) (2.4.6)\n",
            "Requirement already satisfied: aiosignal>=1.1.2 in /usr/local/lib/python3.11/dist-packages (from aiohttp<4.0.0,>=3.8.3->langchain-community<0.4.0,>=0.3.0->langchain-experimental) (1.3.2)\n",
            "Requirement already satisfied: attrs>=17.3.0 in /usr/local/lib/python3.11/dist-packages (from aiohttp<4.0.0,>=3.8.3->langchain-community<0.4.0,>=0.3.0->langchain-experimental) (25.1.0)\n",
            "Requirement already satisfied: frozenlist>=1.1.1 in /usr/local/lib/python3.11/dist-packages (from aiohttp<4.0.0,>=3.8.3->langchain-community<0.4.0,>=0.3.0->langchain-experimental) (1.5.0)\n",
            "Requirement already satisfied: multidict<7.0,>=4.5 in /usr/local/lib/python3.11/dist-packages (from aiohttp<4.0.0,>=3.8.3->langchain-community<0.4.0,>=0.3.0->langchain-experimental) (6.1.0)\n",
            "Requirement already satisfied: propcache>=0.2.0 in /usr/local/lib/python3.11/dist-packages (from aiohttp<4.0.0,>=3.8.3->langchain-community<0.4.0,>=0.3.0->langchain-experimental) (0.2.1)\n",
            "Requirement already satisfied: yarl<2.0,>=1.17.0 in /usr/local/lib/python3.11/dist-packages (from aiohttp<4.0.0,>=3.8.3->langchain-community<0.4.0,>=0.3.0->langchain-experimental) (1.18.3)\n",
            "Requirement already satisfied: marshmallow<4.0.0,>=3.18.0 in /usr/local/lib/python3.11/dist-packages (from dataclasses-json<0.7,>=0.5.7->langchain-community<0.4.0,>=0.3.0->langchain-experimental) (3.26.1)\n",
            "Requirement already satisfied: typing-inspect<1,>=0.4.0 in /usr/local/lib/python3.11/dist-packages (from dataclasses-json<0.7,>=0.5.7->langchain-community<0.4.0,>=0.3.0->langchain-experimental) (0.9.0)\n",
            "Requirement already satisfied: jsonpointer>=1.9 in /usr/local/lib/python3.11/dist-packages (from jsonpatch<2.0,>=1.33->langchain-core<0.4.0,>=0.3.28->langchain-experimental) (3.0.0)\n",
            "Requirement already satisfied: langchain-text-splitters<1.0.0,>=0.3.6 in /usr/local/lib/python3.11/dist-packages (from langchain<1.0.0,>=0.3.19->langchain-community<0.4.0,>=0.3.0->langchain-experimental) (0.3.6)\n",
            "Requirement already satisfied: httpx<1,>=0.23.0 in /usr/local/lib/python3.11/dist-packages (from langsmith<0.4,>=0.1.125->langchain-community<0.4.0,>=0.3.0->langchain-experimental) (0.28.1)\n",
            "Requirement already satisfied: orjson<4.0.0,>=3.9.14 in /usr/local/lib/python3.11/dist-packages (from langsmith<0.4,>=0.1.125->langchain-community<0.4.0,>=0.3.0->langchain-experimental) (3.10.15)\n",
            "Requirement already satisfied: requests-toolbelt<2.0.0,>=1.0.0 in /usr/local/lib/python3.11/dist-packages (from langsmith<0.4,>=0.1.125->langchain-community<0.4.0,>=0.3.0->langchain-experimental) (1.0.0)\n",
            "Requirement already satisfied: zstandard<0.24.0,>=0.23.0 in /usr/local/lib/python3.11/dist-packages (from langsmith<0.4,>=0.1.125->langchain-community<0.4.0,>=0.3.0->langchain-experimental) (0.23.0)\n",
            "Requirement already satisfied: annotated-types>=0.6.0 in /usr/local/lib/python3.11/dist-packages (from pydantic<3.0.0,>=2.5.2->langchain-core<0.4.0,>=0.3.28->langchain-experimental) (0.7.0)\n",
            "Requirement already satisfied: pydantic-core==2.27.2 in /usr/local/lib/python3.11/dist-packages (from pydantic<3.0.0,>=2.5.2->langchain-core<0.4.0,>=0.3.28->langchain-experimental) (2.27.2)\n",
            "Requirement already satisfied: python-dotenv>=0.21.0 in /usr/local/lib/python3.11/dist-packages (from pydantic-settings<3.0.0,>=2.4.0->langchain-community<0.4.0,>=0.3.0->langchain-experimental) (1.0.1)\n",
            "Requirement already satisfied: charset-normalizer<4,>=2 in /usr/local/lib/python3.11/dist-packages (from requests<3,>=2->langchain-community<0.4.0,>=0.3.0->langchain-experimental) (3.4.1)\n",
            "Requirement already satisfied: idna<4,>=2.5 in /usr/local/lib/python3.11/dist-packages (from requests<3,>=2->langchain-community<0.4.0,>=0.3.0->langchain-experimental) (3.10)\n",
            "Requirement already satisfied: urllib3<3,>=1.21.1 in /usr/local/lib/python3.11/dist-packages (from requests<3,>=2->langchain-community<0.4.0,>=0.3.0->langchain-experimental) (2.3.0)\n",
            "Requirement already satisfied: certifi>=2017.4.17 in /usr/local/lib/python3.11/dist-packages (from requests<3,>=2->langchain-community<0.4.0,>=0.3.0->langchain-experimental) (2025.1.31)\n",
            "Requirement already satisfied: greenlet!=0.4.17 in /usr/local/lib/python3.11/dist-packages (from SQLAlchemy<3,>=1.4->langchain-community<0.4.0,>=0.3.0->langchain-experimental) (3.1.1)\n",
            "Requirement already satisfied: anyio in /usr/local/lib/python3.11/dist-packages (from httpx<1,>=0.23.0->langsmith<0.4,>=0.1.125->langchain-community<0.4.0,>=0.3.0->langchain-experimental) (3.7.1)\n",
            "Requirement already satisfied: httpcore==1.* in /usr/local/lib/python3.11/dist-packages (from httpx<1,>=0.23.0->langsmith<0.4,>=0.1.125->langchain-community<0.4.0,>=0.3.0->langchain-experimental) (1.0.7)\n",
            "Requirement already satisfied: h11<0.15,>=0.13 in /usr/local/lib/python3.11/dist-packages (from httpcore==1.*->httpx<1,>=0.23.0->langsmith<0.4,>=0.1.125->langchain-community<0.4.0,>=0.3.0->langchain-experimental) (0.14.0)\n",
            "Requirement already satisfied: mypy-extensions>=0.3.0 in /usr/local/lib/python3.11/dist-packages (from typing-inspect<1,>=0.4.0->dataclasses-json<0.7,>=0.5.7->langchain-community<0.4.0,>=0.3.0->langchain-experimental) (1.0.0)\n",
            "Requirement already satisfied: sniffio>=1.1 in /usr/local/lib/python3.11/dist-packages (from anyio->httpx<1,>=0.23.0->langsmith<0.4,>=0.1.125->langchain-community<0.4.0,>=0.3.0->langchain-experimental) (1.3.1)\n",
            "Collecting langchain-openai\n",
            "  Downloading langchain_openai-0.3.6-py3-none-any.whl.metadata (2.3 kB)\n",
            "Requirement already satisfied: langchain-core<1.0.0,>=0.3.35 in /usr/local/lib/python3.11/dist-packages (from langchain-openai) (0.3.37)\n",
            "Requirement already satisfied: openai<2.0.0,>=1.58.1 in /usr/local/lib/python3.11/dist-packages (from langchain-openai) (1.61.1)\n",
            "Collecting tiktoken<1,>=0.7 (from langchain-openai)\n",
            "  Downloading tiktoken-0.9.0-cp311-cp311-manylinux_2_17_x86_64.manylinux2014_x86_64.whl.metadata (6.7 kB)\n",
            "Requirement already satisfied: langsmith<0.4,>=0.1.125 in /usr/local/lib/python3.11/dist-packages (from langchain-core<1.0.0,>=0.3.35->langchain-openai) (0.3.8)\n",
            "Requirement already satisfied: tenacity!=8.4.0,<10.0.0,>=8.1.0 in /usr/local/lib/python3.11/dist-packages (from langchain-core<1.0.0,>=0.3.35->langchain-openai) (9.0.0)\n",
            "Requirement already satisfied: jsonpatch<2.0,>=1.33 in /usr/local/lib/python3.11/dist-packages (from langchain-core<1.0.0,>=0.3.35->langchain-openai) (1.33)\n",
            "Requirement already satisfied: PyYAML>=5.3 in /usr/local/lib/python3.11/dist-packages (from langchain-core<1.0.0,>=0.3.35->langchain-openai) (6.0.2)\n",
            "Requirement already satisfied: packaging<25,>=23.2 in /usr/local/lib/python3.11/dist-packages (from langchain-core<1.0.0,>=0.3.35->langchain-openai) (24.2)\n",
            "Requirement already satisfied: typing-extensions>=4.7 in /usr/local/lib/python3.11/dist-packages (from langchain-core<1.0.0,>=0.3.35->langchain-openai) (4.12.2)\n",
            "Requirement already satisfied: pydantic<3.0.0,>=2.5.2 in /usr/local/lib/python3.11/dist-packages (from langchain-core<1.0.0,>=0.3.35->langchain-openai) (2.10.6)\n",
            "Requirement already satisfied: anyio<5,>=3.5.0 in /usr/local/lib/python3.11/dist-packages (from openai<2.0.0,>=1.58.1->langchain-openai) (3.7.1)\n",
            "Requirement already satisfied: distro<2,>=1.7.0 in /usr/local/lib/python3.11/dist-packages (from openai<2.0.0,>=1.58.1->langchain-openai) (1.9.0)\n",
            "Requirement already satisfied: httpx<1,>=0.23.0 in /usr/local/lib/python3.11/dist-packages (from openai<2.0.0,>=1.58.1->langchain-openai) (0.28.1)\n",
            "Requirement already satisfied: jiter<1,>=0.4.0 in /usr/local/lib/python3.11/dist-packages (from openai<2.0.0,>=1.58.1->langchain-openai) (0.8.2)\n",
            "Requirement already satisfied: sniffio in /usr/local/lib/python3.11/dist-packages (from openai<2.0.0,>=1.58.1->langchain-openai) (1.3.1)\n",
            "Requirement already satisfied: tqdm>4 in /usr/local/lib/python3.11/dist-packages (from openai<2.0.0,>=1.58.1->langchain-openai) (4.67.1)\n",
            "Requirement already satisfied: regex>=2022.1.18 in /usr/local/lib/python3.11/dist-packages (from tiktoken<1,>=0.7->langchain-openai) (2024.11.6)\n",
            "Requirement already satisfied: requests>=2.26.0 in /usr/local/lib/python3.11/dist-packages (from tiktoken<1,>=0.7->langchain-openai) (2.32.3)\n",
            "Requirement already satisfied: idna>=2.8 in /usr/local/lib/python3.11/dist-packages (from anyio<5,>=3.5.0->openai<2.0.0,>=1.58.1->langchain-openai) (3.10)\n",
            "Requirement already satisfied: certifi in /usr/local/lib/python3.11/dist-packages (from httpx<1,>=0.23.0->openai<2.0.0,>=1.58.1->langchain-openai) (2025.1.31)\n",
            "Requirement already satisfied: httpcore==1.* in /usr/local/lib/python3.11/dist-packages (from httpx<1,>=0.23.0->openai<2.0.0,>=1.58.1->langchain-openai) (1.0.7)\n",
            "Requirement already satisfied: h11<0.15,>=0.13 in /usr/local/lib/python3.11/dist-packages (from httpcore==1.*->httpx<1,>=0.23.0->openai<2.0.0,>=1.58.1->langchain-openai) (0.14.0)\n",
            "Requirement already satisfied: jsonpointer>=1.9 in /usr/local/lib/python3.11/dist-packages (from jsonpatch<2.0,>=1.33->langchain-core<1.0.0,>=0.3.35->langchain-openai) (3.0.0)\n",
            "Requirement already satisfied: orjson<4.0.0,>=3.9.14 in /usr/local/lib/python3.11/dist-packages (from langsmith<0.4,>=0.1.125->langchain-core<1.0.0,>=0.3.35->langchain-openai) (3.10.15)\n",
            "Requirement already satisfied: requests-toolbelt<2.0.0,>=1.0.0 in /usr/local/lib/python3.11/dist-packages (from langsmith<0.4,>=0.1.125->langchain-core<1.0.0,>=0.3.35->langchain-openai) (1.0.0)\n",
            "Requirement already satisfied: zstandard<0.24.0,>=0.23.0 in /usr/local/lib/python3.11/dist-packages (from langsmith<0.4,>=0.1.125->langchain-core<1.0.0,>=0.3.35->langchain-openai) (0.23.0)\n",
            "Requirement already satisfied: annotated-types>=0.6.0 in /usr/local/lib/python3.11/dist-packages (from pydantic<3.0.0,>=2.5.2->langchain-core<1.0.0,>=0.3.35->langchain-openai) (0.7.0)\n",
            "Requirement already satisfied: pydantic-core==2.27.2 in /usr/local/lib/python3.11/dist-packages (from pydantic<3.0.0,>=2.5.2->langchain-core<1.0.0,>=0.3.35->langchain-openai) (2.27.2)\n",
            "Requirement already satisfied: charset-normalizer<4,>=2 in /usr/local/lib/python3.11/dist-packages (from requests>=2.26.0->tiktoken<1,>=0.7->langchain-openai) (3.4.1)\n",
            "Requirement already satisfied: urllib3<3,>=1.21.1 in /usr/local/lib/python3.11/dist-packages (from requests>=2.26.0->tiktoken<1,>=0.7->langchain-openai) (2.3.0)\n",
            "Downloading langchain_openai-0.3.6-py3-none-any.whl (54 kB)\n",
            "\u001b[2K   \u001b[90m━━━━━━━━━━━━━━━━━━━━━━━━━━━━━━━━━━━━━━━━\u001b[0m \u001b[32m54.9/54.9 kB\u001b[0m \u001b[31m2.2 MB/s\u001b[0m eta \u001b[36m0:00:00\u001b[0m\n",
            "\u001b[?25hDownloading tiktoken-0.9.0-cp311-cp311-manylinux_2_17_x86_64.manylinux2014_x86_64.whl (1.2 MB)\n",
            "\u001b[2K   \u001b[90m━━━━━━━━━━━━━━━━━━━━━━━━━━━━━━━━━━━━━━━━\u001b[0m \u001b[32m1.2/1.2 MB\u001b[0m \u001b[31m21.1 MB/s\u001b[0m eta \u001b[36m0:00:00\u001b[0m\n",
            "\u001b[?25hInstalling collected packages: tiktoken, langchain-openai\n",
            "Successfully installed langchain-openai-0.3.6 tiktoken-0.9.0\n"
          ]
        }
      ]
    },
    {
      "cell_type": "code",
      "source": [
        "import pandas as pd\n",
        "from langchain_openai import OpenAI  # langchain_openai からインポート\n",
        "from langchain.prompts import PromptTemplate\n",
        "from langchain.chains import LLMChain\n",
        "from langchain_experimental.tools import PythonREPLTool  # langchain_experimental.tools からインポート"
      ],
      "metadata": {
        "id": "im9nQIZuRezh"
      },
      "execution_count": 51,
      "outputs": []
    },
    {
      "cell_type": "code",
      "source": [
        "# # OpenAI APIキーの設定\n",
        "# import os\n",
        "# os.environ[\"OPENAI_API_KEY\"] = \"YOUR_OPENAI_API_KEY\"  # 実際のAPIキーに置き換えてください\n",
        "\n",
        "# LLMの初期化\n",
        "llm = OpenAI(temperature=0, api_key=userdata.get('OPENAI_API_KEY'))"
      ],
      "metadata": {
        "id": "mreqO7KOSWYZ"
      },
      "execution_count": 52,
      "outputs": []
    },
    {
      "cell_type": "code",
      "source": [
        "# 単語分類APIのプロンプトテンプレート\n",
        "classification_template = \"\"\"\n",
        "与えられた単語を以下のカテゴリに分類してください: [屋内, 屋外, その他]\n",
        "\n",
        "単語: {word}\n",
        "分類結果:\n",
        "\"\"\"\n",
        "classification_prompt = PromptTemplate(template=classification_template, input_variables=[\"word\"])\n",
        "classification_chain = LLMChain(llm=llm, prompt=classification_prompt)"
      ],
      "metadata": {
        "id": "9T-fqJJvTWiT"
      },
      "execution_count": 53,
      "outputs": []
    },
    {
      "cell_type": "code",
      "source": [
        "# 分類結果グルーピングAPIのプロンプトテンプレート\n",
        "grouping_template = \"\"\"\n",
        "以下の分類結果をグルーピングしてください:\n",
        "\n",
        "{classification_results}\n",
        "グルーピング結果:\n",
        "\"\"\"\n",
        "grouping_prompt = PromptTemplate(template=grouping_template, input_variables=[\"classification_results\"])\n",
        "grouping_chain = LLMChain(llm=llm, prompt=grouping_prompt)"
      ],
      "metadata": {
        "id": "8GcQdtjSTWqS"
      },
      "execution_count": 54,
      "outputs": []
    },
    {
      "cell_type": "code",
      "source": [
        "# 入力文字列\n",
        "input_string = \"定例ミーティング チーム会議 プロジェクト打合せ クライアントミーティング 進捗確認会 プレゼンテーション準備 部門会議 月次報告会 オンラインセミナー 社内研修 一対一面談 ランチミーティング 顧客訪問 ワークショップ ブレインストーミング 戦略会議 資料作成ミーティング 新規企画打合せ 成果発表会 取締役会議 予約確認会 予算調整会 顧客フォローアップ 業務改善会議 取引先打合せ 朝礼 終礼ミーティング イベント準備会 緊急対応会議 定例連絡会\"\n",
        "\n",
        "# 単語に分割\n",
        "words = input_string.split()\n",
        "\n",
        "print(words)"
      ],
      "metadata": {
        "colab": {
          "base_uri": "https://localhost:8080/"
        },
        "id": "KQSfqlFoY39L",
        "outputId": "d0b9cf63-86b7-457e-84ab-dc88e6f76799"
      },
      "execution_count": 55,
      "outputs": [
        {
          "output_type": "stream",
          "name": "stdout",
          "text": [
            "['定例ミーティング', 'チーム会議', 'プロジェクト打合せ', 'クライアントミーティング', '進捗確認会', 'プレゼンテーション準備', '部門会議', '月次報告会', 'オンラインセミナー', '社内研修', '一対一面談', 'ランチミーティング', '顧客訪問', 'ワークショップ', 'ブレインストーミング', '戦略会議', '資料作成ミーティング', '新規企画打合せ', '成果発表会', '取締役会議', '予約確認会', '予算調整会', '顧客フォローアップ', '業務改善会議', '取引先打合せ', '朝礼', '終礼ミーティング', 'イベント準備会', '緊急対応会議', '定例連絡会']\n"
          ]
        }
      ]
    },
    {
      "cell_type": "code",
      "source": [
        "# 分類結果を格納するDataFrame\n",
        "results = []\n",
        "\n",
        "# 単語ごとに分類APIを呼び出し、結果をDataFrameに格納\n",
        "for word in words:\n",
        "    classification_result = classification_chain.run(word=word).strip()\n",
        "    results.append({\"word\": word, \"category\": classification_result})\n",
        "\n",
        "df = pd.DataFrame(results)\n",
        "\n",
        "print(\"分類結果:\")\n",
        "print(df)"
      ],
      "metadata": {
        "colab": {
          "base_uri": "https://localhost:8080/"
        },
        "id": "8LoqhnJrZX_r",
        "outputId": "339aeb2f-da37-45e4-e2e6-330e9a5e44c5"
      },
      "execution_count": 56,
      "outputs": [
        {
          "output_type": "stream",
          "name": "stdout",
          "text": [
            "分類結果:\n",
            "            word category\n",
            "0       定例ミーティング      その他\n",
            "1          チーム会議      その他\n",
            "2      プロジェクト打合せ       屋内\n",
            "3   クライアントミーティング       屋内\n",
            "4          進捗確認会      その他\n",
            "5    プレゼンテーション準備      その他\n",
            "6           部門会議      その他\n",
            "7          月次報告会      その他\n",
            "8      オンラインセミナー      その他\n",
            "9           社内研修       屋内\n",
            "10         一対一面談      その他\n",
            "11     ランチミーティング       屋内\n",
            "12          顧客訪問      その他\n",
            "13       ワークショップ      その他\n",
            "14    ブレインストーミング      その他\n",
            "15          戦略会議      その他\n",
            "16    資料作成ミーティング      その他\n",
            "17       新規企画打合せ       屋内\n",
            "18         成果発表会      その他\n",
            "19         取締役会議      その他\n",
            "20         予約確認会      その他\n",
            "21         予算調整会      その他\n",
            "22     顧客フォローアップ      その他\n",
            "23        業務改善会議      その他\n",
            "24        取引先打合せ       屋内\n",
            "25            朝礼       屋内\n",
            "26      終礼ミーティング      その他\n",
            "27       イベント準備会      その他\n",
            "28        緊急対応会議      その他\n",
            "29         定例連絡会      その他\n"
          ]
        }
      ]
    },
    {
      "cell_type": "code",
      "source": [
        "# 分類結果を文字列に変換\n",
        "classification_results_string = df.to_string()\n",
        "\n",
        "# グルーピングAPIを呼び出し\n",
        "grouping_result = grouping_chain.run(classification_results=classification_results_string).strip()\n",
        "\n",
        "print(\"\\nグルーピング結果:\")\n",
        "print(grouping_result)"
      ],
      "metadata": {
        "colab": {
          "base_uri": "https://localhost:8080/"
        },
        "id": "4qXjOAnBRXRZ",
        "outputId": "1ca6a446-0ff9-4410-d5f2-152369d3ef17"
      },
      "execution_count": 57,
      "outputs": [
        {
          "output_type": "stream",
          "name": "stdout",
          "text": [
            "\n",
            "グルーピング結果:\n",
            "その他: 定例ミーティング, チーム会議, 進捗確認会, プレゼンテーション準備, 部門会議, 月次報告会, オンラインセミナー, 一対一面談, ランチミーティング, 顧客訪問, ワークショップ, ブレインストーミング, 戦略会議, 資料作成ミーティング, 成果発表会, 取締役会議, 予約確認会, 予算調整会, 顧客フォローアップ, 業務改善会議, 終礼ミーティング, イベント準備会, 緊急対応会議, 定例連絡会\n",
            "屋内:\n"
          ]
        }
      ]
    },
    {
      "cell_type": "code",
      "source": [
        "# カテゴリ追加プロンプトテンプレート\n",
        "category_addition_template = \"\"\"\n",
        "与えられた単語リストから一番多く含まれそうなカテゴリを一つ作成してください。\n",
        "\n",
        "単語リスト: {word_list}\n",
        "作成するカテゴリ:\n",
        "\"\"\"\n",
        "category_addition_prompt = PromptTemplate(template=category_addition_template, input_variables=[\"word_list\"])\n",
        "category_addition_chain = LLMChain(llm=llm, prompt=category_addition_prompt)"
      ],
      "metadata": {
        "id": "3j3FaG6ZSg6A"
      },
      "execution_count": 58,
      "outputs": []
    },
    {
      "cell_type": "code",
      "source": [
        "# 分類結果を格納するリスト\n",
        "results = []\n",
        "categories = [\"屋内\", \"屋外\", \"その他\"]  # 初期カテゴリ\n",
        "review_count = 0 #カテゴリを見直した回数をカウントする変数\n",
        "\n",
        "for i in range(5):  # 最大5回カテゴリ追加処理を行う\n",
        "    results = []  # 各ループで結果を初期化\n",
        "    # 単語ごとに分類APIを呼び出し、結果をリストに格納\n",
        "    for word in words:\n",
        "        classification_result = classification_chain.run(word=word, categories=categories).strip()\n",
        "        results.append({\"word\": word, \"category\": classification_result})\n",
        "\n",
        "    df = pd.DataFrame(results)\n",
        "\n",
        "    print(\"分類結果:\")\n",
        "    print(df)\n",
        "\n",
        "    # その他に分類された単語の数をカウント\n",
        "    other_count = df[\"category\"].value_counts().get(\"その他\", 0)\n",
        "    total_count = len(df)\n",
        "    other_percentage = (other_count / total_count) * 100\n",
        "\n",
        "    if other_percentage < 10:  # その他が10%未満なら終了\n",
        "        break\n",
        "\n",
        "    # その他に分類された単語リストを作成\n",
        "    other_words = df[df[\"category\"] == \"その他\"][\"word\"].tolist()\n",
        "\n",
        "    if other_words:\n",
        "        # 新しいカテゴリを作成\n",
        "        new_category = category_addition_chain.run(word_list=\", \".join(other_words)).strip()\n",
        "        categories.append(new_category)  # カテゴリリストに追加\n",
        "        print(f\"新しいカテゴリ '{new_category}' を追加しました。\")\n",
        "        review_count += 1 # カテゴリ見直し回数を１増やす\n",
        "\n",
        "        # 分類プロンプトを更新\n",
        "        classification_template = f\"\"\"\n",
        "        与えられた単語を以下のカテゴリに分類してください: {categories}\n",
        "\n",
        "        単語: {{word}}\n",
        "        分類結果:\n",
        "        \"\"\"\n",
        "        classification_prompt = PromptTemplate(template=classification_template, input_variables=[\"word\", \"categories\"])\n",
        "        classification_chain = LLMChain(llm=llm, prompt=classification_prompt)\n",
        "    else:\n",
        "        break # その他に分類された単語がない場合は終了\n",
        "\n",
        "# 実行結果の表示\n",
        "print(f\"\\nカテゴリを見直した回数: {review_count}\")\n",
        "print(f\"最終的なカテゴリのセット: {categories}\")"
      ],
      "metadata": {
        "colab": {
          "base_uri": "https://localhost:8080/"
        },
        "id": "RSzjr2ZngFOH",
        "outputId": "5b601281-c863-4927-edca-6b693548b806"
      },
      "execution_count": 59,
      "outputs": [
        {
          "output_type": "stream",
          "name": "stdout",
          "text": [
            "分類結果:\n",
            "            word category\n",
            "0       定例ミーティング      その他\n",
            "1          チーム会議      その他\n",
            "2      プロジェクト打合せ       屋内\n",
            "3   クライアントミーティング       屋内\n",
            "4          進捗確認会      その他\n",
            "5    プレゼンテーション準備      その他\n",
            "6           部門会議      その他\n",
            "7          月次報告会      その他\n",
            "8      オンラインセミナー      その他\n",
            "9           社内研修       屋内\n",
            "10         一対一面談      その他\n",
            "11     ランチミーティング       屋内\n",
            "12          顧客訪問      その他\n",
            "13       ワークショップ      その他\n",
            "14    ブレインストーミング      その他\n",
            "15          戦略会議      その他\n",
            "16    資料作成ミーティング      その他\n",
            "17       新規企画打合せ       屋内\n",
            "18         成果発表会      その他\n",
            "19         取締役会議      その他\n",
            "20         予約確認会      その他\n",
            "21         予算調整会      その他\n",
            "22     顧客フォローアップ      その他\n",
            "23        業務改善会議      その他\n",
            "24        取引先打合せ       屋内\n",
            "25            朝礼       屋内\n",
            "26      終礼ミーティング      その他\n",
            "27       イベント準備会      その他\n",
            "28        緊急対応会議      その他\n",
            "29         定例連絡会      その他\n",
            "新しいカテゴリ '会議・ミーティング' を追加しました。\n",
            "分類結果:\n",
            "            word   category\n",
            "0       定例ミーティング  会議・ミーティング\n",
            "1          チーム会議  会議・ミーティング\n",
            "2      プロジェクト打合せ  会議・ミーティング\n",
            "3   クライアントミーティング  会議・ミーティング\n",
            "4          進捗確認会  会議・ミーティング\n",
            "5    プレゼンテーション準備  会議・ミーティング\n",
            "6           部門会議  会議・ミーティング\n",
            "7          月次報告会  会議・ミーティング\n",
            "8      オンラインセミナー  会議・ミーティング\n",
            "9           社内研修  会議・ミーティング\n",
            "10         一対一面談  会議・ミーティング\n",
            "11     ランチミーティング  会議・ミーティング\n",
            "12          顧客訪問  会議・ミーティング\n",
            "13       ワークショップ  会議・ミーティング\n",
            "14    ブレインストーミング  会議・ミーティング\n",
            "15          戦略会議  会議・ミーティング\n",
            "16    資料作成ミーティング  会議・ミーティング\n",
            "17       新規企画打合せ  会議・ミーティング\n",
            "18         成果発表会  会議・ミーティング\n",
            "19         取締役会議  会議・ミーティング\n",
            "20         予約確認会  会議・ミーティング\n",
            "21         予算調整会  会議・ミーティング\n",
            "22     顧客フォローアップ        その他\n",
            "23        業務改善会議  会議・ミーティング\n",
            "24        取引先打合せ  会議・ミーティング\n",
            "25            朝礼  会議・ミーティング\n",
            "26      終礼ミーティング  会議・ミーティング\n",
            "27       イベント準備会  会議・ミーティング\n",
            "28        緊急対応会議  会議・ミーティング\n",
            "29         定例連絡会  会議・ミーティング\n",
            "\n",
            "カテゴリを見直した回数: 1\n",
            "最終的なカテゴリのセット: ['屋内', '屋外', 'その他', '会議・ミーティング']\n"
          ]
        }
      ]
    },
    {
      "cell_type": "code",
      "source": [
        "# 最終的なグルーピング\n",
        "classification_results_string = pd.DataFrame(results).to_string()\n",
        "grouping_result = grouping_chain.run(classification_results=classification_results_string).strip()\n",
        "\n",
        "print(\"\\n最終的なグルーピング結果:\")\n",
        "print(grouping_result)"
      ],
      "metadata": {
        "colab": {
          "base_uri": "https://localhost:8080/"
        },
        "id": "yGGUoH0jh27D",
        "outputId": "bebe3de2-bf77-41b6-a106-1a9a33e72949"
      },
      "execution_count": 60,
      "outputs": [
        {
          "output_type": "stream",
          "name": "stdout",
          "text": [
            "\n",
            "最終的なグルーピング結果:\n",
            "会議・ミーティング: 定例ミーティング, チーム会議, プロジェクト打合せ, クライアントミーティング, 進捗確認会, プレゼンテーション準備, 部門会議, 月次報告会, オンラインセミナー, 社内研修, 一対一面談, ランチミーティング, 顧客訪問, ワークショップ, ブレインストーミング, 戦略会議, 資料作成ミーティング, 新規企画打合せ, 成果発表会, 取締役会議, 予約確認会, 予算調整会, 業務改善会議, 取引先打合せ, 朝\n"
          ]
        }
      ]
    },
    {
      "cell_type": "code",
      "source": [
        "from collections import Counter\n",
        "\n",
        "# グループごとのカウント\n",
        "category_counts = Counter(result['category'] for result in results)\n",
        "print(\"\\nグループごとのカウント:\")\n",
        "for category, count in category_counts.items():\n",
        "    print(f\"{category}: {count}\")"
      ],
      "metadata": {
        "colab": {
          "base_uri": "https://localhost:8080/"
        },
        "id": "hujMvpv2gaCa",
        "outputId": "057d0faf-5782-4d7d-bf85-39d3be8ce55d"
      },
      "execution_count": 61,
      "outputs": [
        {
          "output_type": "stream",
          "name": "stdout",
          "text": [
            "\n",
            "グループごとのカウント:\n",
            "会議・ミーティング: 29\n",
            "その他: 1\n"
          ]
        }
      ]
    },
    {
      "cell_type": "code",
      "source": [],
      "metadata": {
        "id": "H2aWgzsBg2ry"
      },
      "execution_count": null,
      "outputs": []
    }
  ]
}